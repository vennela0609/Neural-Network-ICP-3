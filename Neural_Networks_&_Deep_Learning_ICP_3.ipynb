{
  "nbformat": 4,
  "nbformat_minor": 0,
  "metadata": {
    "colab": {
      "provenance": []
    },
    "kernelspec": {
      "name": "python3",
      "display_name": "Python 3"
    },
    "language_info": {
      "name": "python"
    }
  },
  "cells": [
    {
      "cell_type": "markdown",
      "source": [
        "Question 1"
      ],
      "metadata": {
        "id": "pNaHfQSoz2j5"
      }
    },
    {
      "cell_type": "code",
      "execution_count": 26,
      "metadata": {
        "colab": {
          "base_uri": "https://localhost:8080/"
        },
        "id": "dpLV_YMtusdQ",
        "outputId": "07597dc3-bff0-49fc-8e76-22f53fdc0731"
      },
      "outputs": [
        {
          "output_type": "stream",
          "name": "stdout",
          "text": [
            "Average salary of employees: 53666.67\n",
            "Average salary of employees by calling method using subclass: 53666.67\n"
          ]
        }
      ],
      "source": [
        "class Employee:\n",
        "  no_of_employees = 0\n",
        "  name = ''\n",
        "  family = ''\n",
        "  salary = ''\n",
        "  department = ''\n",
        "  employees = []\n",
        "  def __init__(self, name, family, salary, department):\n",
        "    self.name = name\n",
        "    self.family = family\n",
        "    self.salary = salary\n",
        "    self.department = department\n",
        "    Employee.no_of_employees += 1\n",
        "    Employee.employees.append([name, family, salary, department])\n",
        "  def avg_salary():\n",
        "    total_sal = sum([employee[2] for employee in Employee.employees])\n",
        "    return round(total_sal/Employee.no_of_employees,2)\n",
        "\n",
        "class FulltimeEmployee(Employee):\n",
        "  pass\n",
        "\n",
        "Employee('Vennela', 'Madamshetty', 50000, 'Data')\n",
        "Employee('Tom', 'Peterson', 75000, 'Development')\n",
        "FulltimeEmployee('Vishnu', 'Vardhan', 36000, 'Testing')\n",
        "print('Average salary of employees:',Employee.avg_salary())\n",
        "print('Average salary of employees by calling method using subclass:',FulltimeEmployee.avg_salary())"
      ]
    },
    {
      "cell_type": "markdown",
      "source": [
        "Question 2"
      ],
      "metadata": {
        "id": "wgGA3Dawz5si"
      }
    },
    {
      "cell_type": "code",
      "source": [
        "import numpy as np\n",
        "vector = np.random.uniform(1,20,20)\n",
        "arr = vector.reshape(4,5)\n",
        "maxn = np.amax(arr, axis=1)\n",
        "print('Original array:\\n',arr)\n",
        "print('\\n\\nArray after replacing max with 0:\\n',np.where(np.isin(arr,maxn), 0, arr))"
      ],
      "metadata": {
        "colab": {
          "base_uri": "https://localhost:8080/"
        },
        "id": "Lh7I7iMJz7Q4",
        "outputId": "b4a47bc6-6f25-4fa4-8743-f2b6bd2cb893"
      },
      "execution_count": 22,
      "outputs": [
        {
          "output_type": "stream",
          "name": "stdout",
          "text": [
            "Original array:\n",
            " [[17.66079269 11.40603686  3.38888756  8.51817933 16.06243131]\n",
            " [18.93636549  9.63710031 19.62097997 16.00486548  7.43872821]\n",
            " [ 6.06111186  8.40660322 11.29008702  6.36097861  9.6371647 ]\n",
            " [ 7.41500954 17.22012552 12.76857919 14.6323253  11.32969974]]\n",
            "\n",
            "\n",
            "Array after replacing max with 0:\n",
            " [[ 0.         11.40603686  3.38888756  8.51817933 16.06243131]\n",
            " [18.93636549  9.63710031  0.         16.00486548  7.43872821]\n",
            " [ 6.06111186  8.40660322  0.          6.36097861  9.6371647 ]\n",
            " [ 7.41500954  0.         12.76857919 14.6323253  11.32969974]]\n"
          ]
        }
      ]
    }
  ]
}